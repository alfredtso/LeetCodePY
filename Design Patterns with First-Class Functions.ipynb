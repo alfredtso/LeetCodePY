{
 "cells": [
  {
   "cell_type": "code",
   "execution_count": null,
   "metadata": {
    "collapsed": true
   },
   "outputs": [],
   "source": [
    "from dataclasses import dataclass\n",
    "from typing import NamedTuple, Optional, Callable\n",
    "from decimal import Decimal\n",
    "from collections.abc import Sequence\n",
    "from abc import ABC, abstractmethod\n",
    "\n",
    "class Customer(NamedTuple):\n",
    "    name: str\n",
    "    loyalty: int\n",
    "\n",
    "class Item(NamedTuple):\n",
    "    product: str\n",
    "    quantity: int\n",
    "    price: Decimal\n",
    "\n",
    "    def total(self) -> Decimal:\n",
    "        return self.price * self.quantity\n",
    "\n",
    "@dataclass(frozen=True)\n",
    "class Order(NamedTuple):\n",
    "    customer: Customer\n",
    "    cart: Sequence[Item]\n",
    "    promotion: Optional[Callable[['Order'], Decimal]] = None\n",
    "\n",
    "    def total(self) -> Decimal:\n",
    "        totals = (item.total() for item in self.cart)\n",
    "        return sum(totals, start=Decimal(0))\n",
    "\n",
    "    def due(self) -> Decimal:\n",
    "        if self.promotion is None:\n",
    "            discount = Decimal(0)\n",
    "        else:\n",
    "            discount = self.promotion(self)\n",
    "\n",
    "        return self.total() - discount\n",
    "\n",
    "    def __repr__(self):\n",
    "        return f'<Order total: {self.total()():.2f} due: {self.due():.2f}>'\n",
    "\n",
    "\n",
    "class Promotion(ABC): # abstract class\n",
    "    @abstractmethod\n",
    "    def discount(self, order: Order) -> Decimal:\n",
    "        \"\"\"\n",
    "        Return discount\n",
    "        \"\"\"\n",
    "\n",
    "class LoyaltyPromo(Promotion):\n",
    "\n",
    "    def discount(self, order: Order) -> Decimal:\n",
    "        rate = Decimal('0.05')\n",
    "        if order.customer.loyalty >= 1000:\n",
    "            return order.total() * rate\n",
    "        return Decimal(0)"
   ]
  }
 ],
 "metadata": {
  "kernelspec": {
   "display_name": "Python 3",
   "language": "python",
   "name": "python3"
  },
  "language_info": {
   "codemirror_mode": {
    "name": "ipython",
    "version": 2
   },
   "file_extension": ".py",
   "mimetype": "text/x-python",
   "name": "python",
   "nbconvert_exporter": "python",
   "pygments_lexer": "ipython2",
   "version": "2.7.6"
  }
 },
 "nbformat": 4,
 "nbformat_minor": 0
}